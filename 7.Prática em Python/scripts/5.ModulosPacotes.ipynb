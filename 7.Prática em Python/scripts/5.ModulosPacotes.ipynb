{
 "cells": [
  {
   "cell_type": "markdown",
   "metadata": {},
   "source": [
    "# Formação Cientista de Dados - Prof. Fernando Amaral\n",
    "Módulos e Pacotes"
   ]
  },
  {
   "cell_type": "code",
   "execution_count": 4,
   "metadata": {},
   "outputs": [
    {
     "name": "stdout",
     "output_type": "stream",
     "text": [
      "25\n",
      "1015\n",
      "25.0\n",
      "25.0\n"
     ]
    }
   ],
   "source": [
    "import statistics \n",
    "z = [10,20,30,40]\n",
    "a = [10,20,30,4000]\n",
    "x = statistics.mean(z)\n",
    "b = statistics.mean(a)\n",
    "y = statistics.median(z)\n",
    "c = statistics.median(a)\n",
    "print(x)\n",
    "print(b)\n",
    "print(y)\n",
    "print(c)"
   ]
  },
  {
   "cell_type": "code",
   "execution_count": 5,
   "metadata": {},
   "outputs": [
    {
     "name": "stdout",
     "output_type": "stream",
     "text": [
      "25\n",
      "25.0\n"
     ]
    }
   ],
   "source": [
    "import statistics  as est\n",
    "z = [10,20,30,40]\n",
    "x = est.mean(z)\n",
    "y = est.median(z)\n",
    "print(x)\n",
    "print(y)"
   ]
  },
  {
   "cell_type": "code",
   "execution_count": 6,
   "metadata": {},
   "outputs": [
    {
     "name": "stdout",
     "output_type": "stream",
     "text": [
      "25\n",
      "25.0\n"
     ]
    }
   ],
   "source": [
    "from statistics import mean, median\n",
    "z = [10,20,30,40]\n",
    "x = mean(z)\n",
    "y = median(z)\n",
    "print(x)\n",
    "print(y)"
   ]
  },
  {
   "cell_type": "code",
   "execution_count": 7,
   "metadata": {},
   "outputs": [
    {
     "name": "stdout",
     "output_type": "stream",
     "text": [
      "25\n",
      "25.0\n"
     ]
    }
   ],
   "source": [
    "from statistics import *\n",
    "z = [10,20,30,40]\n",
    "x = mean(z)\n",
    "y = median(z)\n",
    "print(x)\n",
    "print(y)"
   ]
  },
  {
   "cell_type": "code",
   "execution_count": null,
   "metadata": {},
   "outputs": [],
   "source": []
  }
 ],
 "metadata": {
  "kernelspec": {
   "display_name": "Python 3",
   "language": "python",
   "name": "python3"
  },
  "language_info": {
   "codemirror_mode": {
    "name": "ipython",
    "version": 3
   },
   "file_extension": ".py",
   "mimetype": "text/x-python",
   "name": "python",
   "nbconvert_exporter": "python",
   "pygments_lexer": "ipython3",
   "version": "3.11.2"
  }
 },
 "nbformat": 4,
 "nbformat_minor": 4
}
