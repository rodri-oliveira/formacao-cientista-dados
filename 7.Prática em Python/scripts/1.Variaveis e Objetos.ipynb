{
 "cells": [
  {
   "cell_type": "markdown",
   "metadata": {},
   "source": [
    "# Formação Cientista de Dados - Prof. Fernando Amaral\n",
    "Variáveis e Objetos"
   ]
  },
  {
   "cell_type": "code",
   "execution_count": null,
   "metadata": {},
   "outputs": [],
   "source": [
    "#Cria variável do tipo inteiro\n",
    "x = 1\n",
    "print(x)\n",
    "#Cria variável do tipo float\n",
    "y = 3.13\n",
    "print(y)\n",
    "#Cria variável do tipo string\n",
    "m = \"Python\"\n",
    "m = 'Python'\n",
    "print(m)\n",
    "#Cria variável do tipo lógica\n",
    "w = True  \n",
    "y = False\n",
    "print(y)"
   ]
  },
  {
   "cell_type": "code",
   "execution_count": null,
   "metadata": {},
   "outputs": [],
   "source": [
    "#calculadora\n",
    "x = 10\n",
    "y = 20\n",
    "z = 100\n",
    "w = (x + y) * z / 100\n",
    "print(w)"
   ]
  },
  {
   "cell_type": "code",
   "execution_count": 4,
   "metadata": {},
   "outputs": [
    {
     "name": "stdout",
     "output_type": "stream",
     "text": [
      "Este texto será impresso no console\n"
     ]
    },
    {
     "ename": "NameError",
     "evalue": "name 'x' is not defined",
     "output_type": "error",
     "traceback": [
      "\u001b[1;31m---------------------------------------------------------------------------\u001b[0m",
      "\u001b[1;31mNameError\u001b[0m                                 Traceback (most recent call last)",
      "\u001b[1;32mc:\\Users\\Rodrigo\\OneDrive\\Área de Trabalho\\FormacaoCD\\7.Prática em Python\\scripts\\1.Variaveis e Objetos.ipynb Cell 4\u001b[0m line \u001b[0;36m3\n\u001b[0;32m      <a href='vscode-notebook-cell:/c%3A/Users/Rodrigo/OneDrive/%C3%81rea%20de%20Trabalho/FormacaoCD/7.Pr%C3%A1tica%20em%20Python/scripts/1.Variaveis%20e%20Objetos.ipynb#W3sZmlsZQ%3D%3D?line=0'>1</a>\u001b[0m \u001b[39m#exibir texto no console\u001b[39;00m\n\u001b[0;32m      <a href='vscode-notebook-cell:/c%3A/Users/Rodrigo/OneDrive/%C3%81rea%20de%20Trabalho/FormacaoCD/7.Pr%C3%A1tica%20em%20Python/scripts/1.Variaveis%20e%20Objetos.ipynb#W3sZmlsZQ%3D%3D?line=1'>2</a>\u001b[0m \u001b[39mprint\u001b[39m(\u001b[39m\"\u001b[39m\u001b[39mEste texto será impresso no console\u001b[39m\u001b[39m\"\u001b[39m)\n\u001b[1;32m----> <a href='vscode-notebook-cell:/c%3A/Users/Rodrigo/OneDrive/%C3%81rea%20de%20Trabalho/FormacaoCD/7.Pr%C3%A1tica%20em%20Python/scripts/1.Variaveis%20e%20Objetos.ipynb#W3sZmlsZQ%3D%3D?line=2'>3</a>\u001b[0m \u001b[39mprint\u001b[39m(x)\n\u001b[0;32m      <a href='vscode-notebook-cell:/c%3A/Users/Rodrigo/OneDrive/%C3%81rea%20de%20Trabalho/FormacaoCD/7.Pr%C3%A1tica%20em%20Python/scripts/1.Variaveis%20e%20Objetos.ipynb#W3sZmlsZQ%3D%3D?line=3'>4</a>\u001b[0m \u001b[39mprint\u001b[39m(\u001b[39m\"\u001b[39m\u001b[39mTexto e duas variáveis: \u001b[39m\u001b[39m\"\u001b[39m, x ,\u001b[39m\"\u001b[39m\u001b[39m, \u001b[39m\u001b[39m\"\u001b[39m, z)\n",
      "\u001b[1;31mNameError\u001b[0m: name 'x' is not defined"
     ]
    }
   ],
   "source": [
    "#exibir texto no console\n",
    "print(\"Este texto será impresso no console\")\n",
    "print(x)\n",
    "print(\"Texto e duas variáveis: \", x ,\", \", z)"
   ]
  },
  {
   "cell_type": "code",
   "execution_count": null,
   "metadata": {},
   "outputs": [],
   "source": [
    "#verificar tipo\n",
    "print(type(x))\n",
    "print(type(m))"
   ]
  },
  {
   "cell_type": "code",
   "execution_count": null,
   "metadata": {},
   "outputs": [],
   "source": [
    "#entrada de dados\n",
    "print(\"Informe o valor: \")\n",
    "i = input()\n",
    "#mostra tipo string\n",
    "print(type(i))"
   ]
  },
  {
   "cell_type": "code",
   "execution_count": null,
   "metadata": {},
   "outputs": [],
   "source": [
    "#entrada de valor com msg separada e junto\n",
    "print(\"Informe o valor: \")\n",
    "i = input()\n",
    "# ou\n",
    "i = input(\"Informe o valor: \")"
   ]
  },
  {
   "cell_type": "code",
   "execution_count": null,
   "metadata": {},
   "outputs": [],
   "source": [
    "#conversão de valores\n",
    "#para inteiro\n",
    "var = input(\"Informe o valor: \")\n",
    "print(type(var))\n",
    "var = int(var)\n",
    "print(type(var))"
   ]
  },
  {
   "cell_type": "code",
   "execution_count": null,
   "metadata": {},
   "outputs": [],
   "source": [
    "#para float\n",
    "var = input(\"Informe o valor: \")\n",
    "print(type(var))\n",
    "var = float(var)\n",
    "print(type(var))"
   ]
  },
  {
   "cell_type": "code",
   "execution_count": null,
   "metadata": {},
   "outputs": [],
   "source": [
    "# Este texto é um comentário\n",
    "X = 10  # a partir daqui é um comentário"
   ]
  },
  {
   "cell_type": "code",
   "execution_count": null,
   "metadata": {},
   "outputs": [],
   "source": []
  }
 ],
 "metadata": {
  "kernelspec": {
   "display_name": "Python 3",
   "language": "python",
   "name": "python3"
  },
  "language_info": {
   "codemirror_mode": {
    "name": "ipython",
    "version": 3
   },
   "file_extension": ".py",
   "mimetype": "text/x-python",
   "name": "python",
   "nbconvert_exporter": "python",
   "pygments_lexer": "ipython3",
   "version": "3.11.4"
  }
 },
 "nbformat": 4,
 "nbformat_minor": 4
}
